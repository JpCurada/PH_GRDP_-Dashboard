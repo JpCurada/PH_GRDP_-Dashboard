{
 "cells": [
  {
   "cell_type": "markdown",
   "id": "49df110d",
   "metadata": {},
   "source": [
    "# Import dependancies\n"
   ]
  },
  {
   "cell_type": "code",
   "execution_count": null,
   "id": "4561bedc",
   "metadata": {},
   "outputs": [],
   "source": [
    "import pandas as pd\n",
    "import numpy as np\n",
    "import os\n",
    "import xlsxwriter "
   ]
  },
  {
   "cell_type": "markdown",
   "id": "9e5be7c6",
   "metadata": {},
   "source": [
    "# Data Cleaning"
   ]
  },
  {
   "cell_type": "code",
   "execution_count": null,
   "id": "a9b34b29",
   "metadata": {},
   "outputs": [],
   "source": [
    "def clean_data(df):\n",
    "    # Rename unnamed columns\n",
    "    df = df.rename(columns={'Unnamed: 1':2000, \n",
    "                                 'Unnamed: 2':2001, \n",
    "                                 'Unnamed: 3':2002, \n",
    "                                 'Unnamed: 4':2003,\n",
    "                                 'Unnamed: 5':2004, \n",
    "                                 'Unnamed: 6':2005, \n",
    "                                 'Unnamed: 7':2006, \n",
    "                                 'Unnamed: 8':2007,\n",
    "                                 'Unnamed: 9':2008, \n",
    "                                 'Unnamed: 10':2009, \n",
    "                                 'Unnamed: 11':2010, \n",
    "                                 'Unnamed: 12':2011,\n",
    "                                 'Unnamed: 13':2012, \n",
    "                                 'Unnamed: 14':2013, \n",
    "                                 'Unnamed: 15':2014, \n",
    "                                 'Unnamed: 16':2015,\n",
    "                                 'Unnamed: 17':2016, \n",
    "                                 'Unnamed: 18':2017,\n",
    "                                 'Unnamed: 19':2018, \n",
    "                                 'Unnamed: 20':2019, \n",
    "                                 'Unnamed: 21':2020, \n",
    "                                 'Unnamed: 22':2021,})\n",
    "    # Remove rows that have missing values\n",
    "    df = df.dropna()\n",
    "    \n",
    "\n",
    "    # Rename industries \n",
    "    df[df.columns.values[0]].replace({'..Agriculture, forestry, and fishing': 'Agriculture, Forestry and Fishing',\n",
    "                                '..Industry': 'Production',\n",
    "                                '....Mining and quarrying': 'Mining and Quarrying',\n",
    "                                '....Manufacturing': 'Manufacturing',\n",
    "                                '....Electricity, steam, water and waste management':'Electricity, Steam, Water and Waste Management',\n",
    "                                '....Construction':'Construction',\n",
    "                                '..Services':'Services',\n",
    "                                '....Wholesale and retail trade; repair of motor vehicles and motorcycles': 'Wholesale and Retail Trade: Repair of Motor Vehicles and Motorcycles',\n",
    "                                '....Transportation and storage':'Transportation and Storage',\n",
    "                                '....Accommodation and food service activities': 'Accomodation and Food Service Activities',\n",
    "                                '....Information and communication':'Information and Communication',\n",
    "                                '....Financial and insurance activities':'Financial and Insurance Activities',\n",
    "                                '....Real estate and ownership of dwellings':'Real Estate and Ownership of Dwellings',\n",
    "                                '....Professional and business services':'Professional and Business Services',\n",
    "                                '....Public administration and defense; compulsory social activities': 'Public Administration and Defense: Compulsory Social Activities',\n",
    "                                '....Transportation and storage':'Transportation and Storage',\n",
    "                                '....Education': 'Education',\n",
    "                                '....Human health and social work activities':'Human Health and Social Work Activities',\n",
    "                                '....Other services':'Other Services',\n",
    "                                'Gross Domestic Product':'Industries Average'}, inplace=True)\n",
    "    \n",
    "    # Remove Index\n",
    "    \n",
    "    df = df.set_index(df.columns.values[0])\n",
    "    df = df.transpose()\n",
    "    \n",
    "    \n",
    "    \n",
    "    return df"
   ]
  },
  {
   "cell_type": "markdown",
   "id": "a435beb0",
   "metadata": {},
   "source": [
    "### Creating One Excel File with Separated Sheets\n"
   ]
  },
  {
   "cell_type": "code",
   "execution_count": null,
   "id": "033e73d2",
   "metadata": {
    "scrolled": false
   },
   "outputs": [],
   "source": [
    "# Create Pandas dataframes from the excel files found in directory(GRDP Regional Excel Files).\n",
    "\n",
    "path = os.getcwd()\n",
    "files = os.listdir(path)\n",
    "files_xlsx = [f for f in files if f[-4:] == 'xlsx']\n",
    "\n",
    "df_1 = clean_data(pd.read_excel(files_xlsx[0]))\n",
    "df_2 = clean_data(pd.read_excel(files_xlsx[1]))\n",
    "df_3 = clean_data(pd.read_excel(files_xlsx[2]))\n",
    "df_4 = clean_data(pd.read_excel(files_xlsx[3]))\n",
    "df_5 = clean_data(pd.read_excel(files_xlsx[4]))\n",
    "df_6 = clean_data(pd.read_excel(files_xlsx[5]))\n",
    "df_7 = clean_data(pd.read_excel(files_xlsx[6]))\n",
    "df_8 = clean_data(pd.read_excel(files_xlsx[7]))\n",
    "df_9 = clean_data(pd.read_excel(files_xlsx[8]))\n",
    "df_10 = clean_data(pd.read_excel(files_xlsx[9]))\n",
    "df_11 = clean_data(pd.read_excel(files_xlsx[10]))\n",
    "df_12 = clean_data(pd.read_excel(files_xlsx[11]))\n",
    "df_13 = clean_data(pd.read_excel(files_xlsx[12]))\n",
    "df_14 = clean_data(pd.read_excel(files_xlsx[13]))\n",
    "df_15 = clean_data(pd.read_excel(files_xlsx[14]))\n",
    "df_16 = clean_data(pd.read_excel(files_xlsx[15]))\n",
    "df_17 = clean_data(pd.read_excel(files_xlsx[16]))\n",
    "\n",
    "# Create a Pandas Excel writer using XlsxWriter as the engine \n",
    "writer = pd.ExcelWriter('All_Regions_GRDP.xlsx', engine='xlsxwriter')   \n",
    "    \n",
    "# Write each dataframe to a different worksheet (different sheets).    \n",
    "df_1.to_excel(writer,sheet_name=files_xlsx[0].split('_')[0])\n",
    "df_2.to_excel(writer,sheet_name=files_xlsx[1].split('_')[0])\n",
    "df_3.to_excel(writer,sheet_name=files_xlsx[2].split('_')[0])\n",
    "df_4.to_excel(writer,sheet_name=files_xlsx[3].split('_')[0])\n",
    "df_5.to_excel(writer,sheet_name=files_xlsx[4].split('_')[0])\n",
    "df_6.to_excel(writer,sheet_name=files_xlsx[5].split('_')[0])\n",
    "df_7.to_excel(writer,sheet_name=files_xlsx[6].split('_')[0])\n",
    "df_8.to_excel(writer,sheet_name=files_xlsx[7].split('_')[0])\n",
    "df_9.to_excel(writer,sheet_name=files_xlsx[8].split('_')[0])\n",
    "df_10.to_excel(writer,sheet_name=files_xlsx[9].split('_')[0])\n",
    "df_11.to_excel(writer,sheet_name=files_xlsx[10].split('_')[0])\n",
    "df_12.to_excel(writer,sheet_name=files_xlsx[11].split('_')[0])\n",
    "df_13.to_excel(writer,sheet_name=files_xlsx[12].split('_')[0])\n",
    "df_1.to_excel(writer,sheet_name=files_xlsx[13].split('_')[0])\n",
    "df_15.to_excel(writer,sheet_name=files_xlsx[14].split('_')[0])\n",
    "df_16.to_excel(writer,sheet_name=files_xlsx[15].split('_')[0])\n",
    "df_17.to_excel(writer,sheet_name=files_xlsx[16].split('_')[0])\n",
    "\n",
    "# Close the Pandas Excel writer and output the Excel file\n",
    "writer.save()\n"
   ]
  },
  {
   "cell_type": "code",
   "execution_count": null,
   "id": "3fde2867",
   "metadata": {},
   "outputs": [],
   "source": [
    "files_xlsx = [f for f in files if f[-4:] == 'xlsx']\n",
    "files_xlsx[0].split('_')[0]\n"
   ]
  },
  {
   "cell_type": "code",
   "execution_count": null,
   "id": "58db590e",
   "metadata": {},
   "outputs": [],
   "source": [
    "len(files_xlsx)"
   ]
  },
  {
   "cell_type": "code",
   "execution_count": null,
   "id": "396b39bb",
   "metadata": {},
   "outputs": [],
   "source": []
  },
  {
   "cell_type": "code",
   "execution_count": null,
   "id": "b71cd1a6",
   "metadata": {},
   "outputs": [],
   "source": [
    "df_reverse = df.transpose()"
   ]
  },
  {
   "cell_type": "code",
   "execution_count": null,
   "id": "a1d74b81",
   "metadata": {},
   "outputs": [],
   "source": [
    "\n",
    "x = df_reverse.index.values\n",
    "y = df_reverse[df_reverse.columns.values]\n",
    "\n",
    "# plt.plot(x,y)\n",
    "\n",
    "df_reverse[df_reverse.columns.values].values[0]"
   ]
  },
  {
   "cell_type": "code",
   "execution_count": null,
   "id": "f73de454",
   "metadata": {},
   "outputs": [],
   "source": []
  },
  {
   "cell_type": "code",
   "execution_count": null,
   "id": "a165c1e4",
   "metadata": {},
   "outputs": [],
   "source": [
    "xl = pd.ExcelFile('ARMM_GRDP.xlsx')\n",
    "\n",
    "xl.sheet_names[0]  # see all sheet names\n",
    "\n"
   ]
  },
  {
   "cell_type": "code",
   "execution_count": null,
   "id": "88f20e3b",
   "metadata": {},
   "outputs": [],
   "source": [
    "# compare_chart_industries(choice)"
   ]
  },
  {
   "cell_type": "code",
   "execution_count": null,
   "id": "885bb9ed",
   "metadata": {},
   "outputs": [],
   "source": [
    "# import xlsxwriter\n",
    "# import pandas as pd\n",
    "\n",
    "\n",
    "# # Create some Pandas dataframes from some data.\n",
    "# df1 = pd.DataFrame({'Data': [11, 12, 13, 14]})\n",
    "# df2 = pd.DataFrame({'Data': [21, 22, 23, 24]})\n",
    "# df3 = pd.DataFrame({'Data': [31, 32, 33, 34]})\n",
    "\n",
    "# # Create a Pandas Excel writer using XlsxWriter as the engine.\n",
    "# writer = pd.ExcelWriter('pandas_multiple.xlsx', engine='xlsxwriter')\n",
    "\n",
    "# # Write each dataframe to a different worksheet.\n",
    "# df1.to_excel(writer, sheet_name='Sheet1')\n",
    "# df2.to_excel(writer, sheet_name='Sheet2')\n",
    "# df3.to_excel(writer, sheet_name='Sheet3')\n",
    "\n",
    "# # Close the Pandas Excel writer and output the Excel file.\n",
    "# writer.save()"
   ]
  }
 ],
 "metadata": {
  "kernelspec": {
   "display_name": "grdp_proj_env",
   "language": "python",
   "name": "grdp_proj_env"
  },
  "language_info": {
   "codemirror_mode": {
    "name": "ipython",
    "version": 3
   },
   "file_extension": ".py",
   "mimetype": "text/x-python",
   "name": "python",
   "nbconvert_exporter": "python",
   "pygments_lexer": "ipython3",
   "version": "3.8.10"
  }
 },
 "nbformat": 4,
 "nbformat_minor": 5
}
